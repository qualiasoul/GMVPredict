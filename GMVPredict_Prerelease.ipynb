{
 "cells": [
  {
   "attachments": {},
   "cell_type": "markdown",
   "metadata": {},
   "source": [
    "# GMVPredict: A Pre-Trained Model for Pre-Morbid GMV Estimation \n",
    "William Yang<sup>1*</sup>, Petar Raykov<sup>1</sup>, Andrea Greve<sup>1</sup>\n",
    "> <sup>1</sup>MRC Cognition and Brain Sciences Unit, University of Cambridge \\\n",
    "> <sup>*</sup>Correspondence: wy279@cam.ac.uk\n",
    "\n",
    "**Note**: This Jupyter notebook is based on non-production code for educational purposes, which aim to illustrate the process of developing and implementing GMVPredict.\n",
    "\n"
   ]
  },
  {
   "attachments": {},
   "cell_type": "markdown",
   "metadata": {},
   "source": [
    "---\n",
    "## 1 Setup"
   ]
  },
  {
   "cell_type": "markdown",
   "metadata": {},
   "source": [
    "### 1.1 Package Loading"
   ]
  },
  {
   "cell_type": "code",
   "execution_count": 388,
   "metadata": {},
   "outputs": [],
   "source": [
    "# @title 1.1 Package Loading\n",
    "\n",
    "# Load Packages\n",
    "import numpy as np\n",
    "from numpy import arange\n",
    "from numpy import sqrt\n",
    "import pandas as pd\n",
    "import joblib\n",
    "import pickle\n",
    "import os\n",
    "from matplotlib import pyplot as plt\n",
    "import seaborn as sns\n",
    "from sklearn.linear_model import LinearRegression, Lasso, Ridge, ElasticNet, LogisticRegression\n",
    "from sklearn.svm import LinearSVR, LinearSVC, SVR, SVC\n",
    "from sklearn.ensemble import RandomForestRegressor, RandomForestClassifier\n",
    "from sklearn.neural_network import MLPRegressor, MLPClassifier\n",
    "from xgboost import XGBRegressor, XGBClassifier\n",
    "from sklearn.preprocessing import OneHotEncoder, StandardScaler\n",
    "from sklearn.metrics import balanced_accuracy_score, confusion_matrix, mean_squared_error\n",
    "from sklearn.model_selection import train_test_split, RandomizedSearchCV, GridSearchCV, cross_val_score\n",
    "from sklearn.feature_selection import SelectKBest, mutual_info_regression, mutual_info_classif\n",
    "from sklearn.pipeline import Pipeline\n",
    "from sklearn.compose import ColumnTransformer\n",
    "from sklearn.metrics import r2_score, mean_squared_error\n",
    "from sklearn.impute import KNNImputer, SimpleImputer\n",
    "from sklearn.decomposition import PCA, KernelPCA\n",
    "from skopt import BayesSearchCV\n",
    "from skopt.space import Real, Categorical, Integer\n",
    "from scipy.stats import pearsonr, mannwhitneyu, norm, zscore\n",
    "import shap\n",
    "import statsmodels.api as sm\n",
    "import tensorflow as tf\n",
    "from tensorflow import keras\n",
    "from tqdm import tqdm\n",
    "import warnings\n",
    "from numba import NumbaDeprecationWarning, NumbaPendingDeprecationWarning\n",
    "\n",
    "# Suppress NumbaDeprecationWarning and NumbaPendingDeprecationWarning\n",
    "warnings.filterwarnings('ignore', category=NumbaDeprecationWarning)\n",
    "warnings.filterwarnings('ignore', category=NumbaPendingDeprecationWarning)"
   ]
  },
  {
   "cell_type": "markdown",
   "metadata": {},
   "source": [
    "### 1.2 Helper Functions"
   ]
  },
  {
   "cell_type": "code",
   "execution_count": 389,
   "metadata": {},
   "outputs": [],
   "source": [
    "def continuous_predict(search, data):\n",
    "    y_pred = search.predict(data)\n",
    "    y_pred = y_train_mean + y_train_std*y_pred\n",
    "    y_pred = np.clip(y_pred,0,None)\n",
    "\n",
    "    return y_pred\n",
    "\n",
    "def impute_continuous_data(X_train, X_CV, continuous_missing, impute_method='mean', knn_neighbors=None):\n",
    "    if impute_method == 'mean':\n",
    "        # Mean imputation for continuous variables\n",
    "        imputer = SimpleImputer(strategy='mean')\n",
    "    elif impute_method == 'knn':\n",
    "        # KNN imputation for continuous variables\n",
    "        imputer = KNNImputer(n_neighbors=knn_neighbors)\n",
    "    else:\n",
    "        raise ValueError(\"Invalid imputation method. Choose either 'mean' or 'knn'.\")\n",
    "\n",
    "    # Fitting and transforming the training data\n",
    "    X_train[continuous_missing] = imputer.fit_transform(X_train[continuous_missing])\n",
    "    # Transforming the validation data\n",
    "    X_CV[continuous_missing] = imputer.transform(X_CV[continuous_missing])\n",
    "\n",
    "    return X_train, X_CV"
   ]
  },
  {
   "attachments": {},
   "cell_type": "markdown",
   "metadata": {},
   "source": [
    "### 1.3 Loading Data"
   ]
  },
  {
   "cell_type": "markdown",
   "metadata": {},
   "source": [
    "Here, the chosen directory for data is defined. \n",
    "\n",
    "In this code a csv file (unprovided) is used which contains demographic and VBM ROI data (708 rows, 118 feature columns). This csv was generated from structural MRI image processing in SPM/MATLAB, and contains subject demographic data (Age, Sex, Education, Income), behavioural data (episodic memory score, cattell IQ score) and average grey matter percentages in 111 ROIs. "
   ]
  },
  {
   "cell_type": "code",
   "execution_count": 390,
   "metadata": {},
   "outputs": [],
   "source": [
    "# Define source file (this file contains subject data)\n",
    "source_directory = 'Source/MeanGrayVBM.csv'\n",
    "\n",
    "# Define atlas voxel file (this file contains the number of voxels in each ROI per the atlas used)\n",
    "atlasvoxel_directory = 'Source/Nvoxel_table.csv'\n",
    "\n",
    "# Load Raw Data\n",
    "raw_df = pd.read_csv(source_directory, sep=',', header=0, index_col=0) # Dataframe with demographic and VBM ROI data (708 rows, 118 feature columns)"
   ]
  },
  {
   "attachments": {},
   "cell_type": "markdown",
   "metadata": {},
   "source": [
    "---\n",
    "## 2 Data Preprocessing & Cleaning"
   ]
  },
  {
   "cell_type": "code",
   "execution_count": 391,
   "metadata": {},
   "outputs": [
    {
     "name": "stderr",
     "output_type": "stream",
     "text": [
      "DataFrame is highly fragmented.  This is usually the result of calling `frame.insert` many times, which has poor performance.  Consider joining all columns at once using pd.concat(axis=1) instead. To get a de-fragmented frame, use `newframe = frame.copy()`\n"
     ]
    }
   ],
   "source": [
    "# Re-map sex values such that 1 = male, 0 = female (in the csv generated from SPM, it was 1 and 2)\n",
    "raw_df['Sex'] = raw_df['Sex'].replace({2: 0})\n",
    "\n",
    "# Verifying all GMV values of R hippocampus (108) have accompanying values for L hippocampus (101)\n",
    "mask_101 = raw_df['ROI_101'].notna()\n",
    "mask_108 = raw_df['ROI_108'].isna()\n",
    "problem_rows = raw_df[mask_101 & mask_108] # This is empty, so there are no problem rows\n",
    "\n",
    "# Dropping rows with no hippocampal GMV\n",
    "df = raw_df.dropna(subset=['ROI_101']).copy()\n",
    "\n",
    "# Adjust dataset to include total GM volume instead of average across ROI (i.e. percentage GM)\n",
    "nvoxels = pd.read_csv(atlasvoxel_directory, sep=',', header=0, index_col=False) # Dataframe with number of voxels in each ROI\n",
    "roi_columns = [col for col in raw_df.columns if 'ROI_' in col] # Selecting only the ROI volume columns and not age, sex etc\n",
    "multiplier = nvoxels[roi_columns].iloc[0]\n",
    "df[roi_columns] = df[roi_columns].mul(multiplier)\n",
    "\n",
    "# Adding R hippocampus and L hippocampus volumes to make one outcome variable column\n",
    "df['HippGMV'] = df['ROI_101'] + df['ROI_108']\n",
    "\n",
    "# De-fragmenting the dataframe\n",
    "df = df.copy()"
   ]
  },
  {
   "cell_type": "markdown",
   "metadata": {},
   "source": [
    "Here, we define the target variable to be 'HippGMV', the total grey matter volume of the hippocampus"
   ]
  },
  {
   "attachments": {},
   "cell_type": "markdown",
   "metadata": {},
   "source": [
    "---\n",
    "## 3 Exploratory Data Analysis"
   ]
  },
  {
   "cell_type": "markdown",
   "metadata": {},
   "source": [
    "### 3.1 Top Features Correlated with HippGMV"
   ]
  },
  {
   "cell_type": "code",
   "execution_count": 392,
   "metadata": {},
   "outputs": [
    {
     "data": {
      "image/png": "[encoded data removed]",
      "text/plain": [
       "<Figure size 1000x800 with 1 Axes>"
      ]
     },
     "metadata": {},
     "output_type": "display_data"
    }
   ],
   "source": [
    "# Correlation matrix\n",
    "df_dropped = df.drop(columns=['ROI_101', 'ROI_108']).dropna()\n",
    "corr_matrix = df_dropped.corr()\n",
    "corr_with_HippGMV = corr_matrix['HippGMV']\n",
    "\n",
    "# Select top n features\n",
    "top_N = 25  # Choose n\n",
    "top_corr_with_HippGMV = corr_with_HippGMV.apply(abs).sort_values(ascending=False).head(top_N)\n",
    "\n",
    "# Bar chart of top n features\n",
    "plt.figure(figsize=(10, 8))\n",
    "sns.barplot(x=top_corr_with_HippGMV.values, y=top_corr_with_HippGMV.index, palette='mako')\n",
    "plt.title(f'Top {top_N} Features by Correlation with HippGMV')\n",
    "plt.xlabel('Abs Correlation')\n",
    "plt.ylabel('Features')\n",
    "plt.show()"
   ]
  },
  {
   "cell_type": "markdown",
   "metadata": {},
   "source": [
    "### 3.2 Top Features Correlated with HippGMV (Regressing Out Age/Sex/TIV) "
   ]
  },
  {
   "cell_type": "markdown",
   "metadata": {},
   "source": [
    "Here, we regress out features from the 'basic' model of Age, Sex and total intracranial volume (TIV) to obtain residuals of the ROI data"
   ]
  },
  {
   "cell_type": "code",
   "execution_count": 393,
   "metadata": {},
   "outputs": [
    {
     "data": {
      "image/png": "[encoded data removed]",
      "text/plain": [
       "<Figure size 1000x800 with 1 Axes>"
      ]
     },
     "metadata": {},
     "output_type": "display_data"
    }
   ],
   "source": [
    "# Multiple linear regression to estimate relationship between each ROI vs. age/sex/TIV\n",
    "base_features = ['Age', 'Sex', 'TIV']\n",
    "X_reduced = df_dropped[base_features]\n",
    "X_reduced = sm.add_constant(X_reduced)\n",
    "\n",
    "# Prepare the target variable\n",
    "y_reduced = df_dropped[['HippGMV']]\n",
    "\n",
    "# Create a dictionary to store the residuals for each ROI\n",
    "residuals_dict = {}\n",
    "\n",
    "# Iterate over the columns starting with \"ROI\"\n",
    "for column in df_dropped.columns:\n",
    "    if column.startswith('ROI') and column not in ['Age', 'Sex', 'TIV', 'cattell', 'EM', 'Income', 'Education', 'ROI_101', 'ROI_108']:\n",
    "        roi_column = df_dropped[column]\n",
    "\n",
    "        # Fit the multiple linear regression model\n",
    "        model = sm.OLS(roi_column, X_reduced)\n",
    "        results = model.fit()\n",
    "\n",
    "        # Obtain the residuals from the regression\n",
    "        residuals = results.resid\n",
    "\n",
    "        # Store the residuals in the dictionary using the column name as the key\n",
    "        residuals_dict[column] = residuals\n",
    "\n",
    "# Convert the residuals dictionary to a DataFrame\n",
    "residuals_df = pd.DataFrame(residuals_dict)\n",
    "\n",
    "# Compute pairwise correlations between residuals of each ROI vs. HippGMV\n",
    "corr_with_HippGMV_residuals = {}\n",
    "for roi_column in residuals_df.columns:\n",
    "    # Perform correlation between residuals and HippGMV\n",
    "    corr = np.corrcoef(residuals_df[roi_column], df_dropped['HippGMV'])[0, 1]\n",
    "    corr_with_HippGMV_residuals[roi_column] = corr\n",
    "\n",
    "# Convert the correlations to a pandas Series\n",
    "corr_with_HippGMV_residuals = pd.Series(corr_with_HippGMV_residuals)\n",
    "\n",
    "# Select top n features\n",
    "top_corr_with_HippGMV_residuals = corr_with_HippGMV_residuals.apply(abs).sort_values(ascending=False).head(top_N)\n",
    "\n",
    "# Bar chart of top n features\n",
    "plt.figure(figsize=(10, 8))\n",
    "sns.barplot(x=top_corr_with_HippGMV_residuals.values, y=top_corr_with_HippGMV_residuals.index, palette='mako')\n",
    "plt.title(f'Top {top_N} Features by Correlation with HippGMV (Residuals from Regressing out Age/Sex/TIV)')\n",
    "plt.xlabel('Abs Correlation')\n",
    "plt.ylabel('Features')\n",
    "plt.show()"
   ]
  },
  {
   "cell_type": "markdown",
   "metadata": {},
   "source": [
    "### 3.3 Plotting Histogram of Feature Correlation"
   ]
  },
  {
   "cell_type": "code",
   "execution_count": 394,
   "metadata": {},
   "outputs": [
    {
     "data": {
      "image/png": "[encoded data removed]",
      "text/plain": [
       "<Figure size 1000x800 with 1 Axes>"
      ]
     },
     "metadata": {},
     "output_type": "display_data"
    }
   ],
   "source": [
    "# Histogram of feature correlations\n",
    "plt.figure(figsize=(10, 8))\n",
    "sns.histplot(corr_with_HippGMV.values, bins=30, kde=True)\n",
    "plt.xlabel('Correlation with HippGMV')\n",
    "plt.ylabel('Frequency')\n",
    "plt.title('Histogram of Correlation with HippGMV')\n",
    "plt.show()"
   ]
  },
  {
   "cell_type": "code",
   "execution_count": 395,
   "metadata": {},
   "outputs": [
    {
     "data": {
      "image/png": "[encoded data removed]",
      "text/plain": [
       "<Figure size 1000x800 with 1 Axes>"
      ]
     },
     "metadata": {},
     "output_type": "display_data"
    }
   ],
   "source": [
    "# Histogram of residuals \n",
    "plt.figure(figsize=(10, 8))\n",
    "sns.histplot(corr_with_HippGMV_residuals.values, bins=30, kde=True)\n",
    "plt.xlabel('Correlation with HippGMV')\n",
    "plt.ylabel('Frequency')\n",
    "plt.title('Histogram of Correlation with HippGMV (Residuals from Regressing out Age/Sex/TIV)')\n",
    "plt.show()"
   ]
  },
  {
   "attachments": {},
   "cell_type": "markdown",
   "metadata": {},
   "source": [
    "---\n",
    "## 4 Feature Selection"
   ]
  },
  {
   "cell_type": "code",
   "execution_count": 396,
   "metadata": {},
   "outputs": [],
   "source": [
    "df_full = df.dropna() # df_full preserves all features (behavioral, demographic, GMV), then drops missing values. 597 rows.\n",
    "df_noincome = df.drop(columns=['Income']) # df_noincome preserves all features except Income, then drops missing values. 626 rows. HippGMV and income (see Farah, 2017)\n",
    "df_nobehav_noincome = df.drop(columns=['cattell', 'EM', 'Income']) # df_nobehav preserves all features except cattell IQ, episodic memory, and income, then drops rest. 616 rows\n",
    "df_restrict = df.drop(columns=['cattell', 'EM', 'Education', 'Income']).dropna().drop(columns=['TIV']) # df_restrict datset only includes age, sex and MRI features. 648 rows after dropping missing values.\n",
    "\n",
    "# TOGGLE: df_select globally determines which df is used\n",
    "df_select = df_restrict"
   ]
  },
  {
   "cell_type": "markdown",
   "metadata": {},
   "source": [
    "At this stage, the df has 653 rows and 118 features, which reduces depending on whether behavioral and demographic features are dropped. These features contain many missing values which can be dropped or imputed. In this example, we drop behavioural data as well as all demographic data except age and sex. "
   ]
  },
  {
   "attachments": {},
   "cell_type": "markdown",
   "metadata": {},
   "source": [
    "---\n",
    "## 5 Train-Validation Split"
   ]
  },
  {
   "cell_type": "code",
   "execution_count": 397,
   "metadata": {},
   "outputs": [],
   "source": [
    "targets = ['HippGMV'] # Can change or add more if needed, but make sure to edit feature_columns accordingly\n",
    "\n",
    "# Defining features to be excluded from training. By default we exclude L, R and HippGMV\n",
    "feature_exclusion = targets.copy()\n",
    "if 'HippGMV' in targets:\n",
    "    for roi in ['ROI_101', 'ROI_108']: # Note HippGMV = ROI_101 + ROI_108\n",
    "        if roi not in feature_exclusion:\n",
    "            feature_exclusion.append(roi)\n",
    "\n",
    "# Excluding L, R and bilateral hippocampal GMV from training\n",
    "feature_columns = [col for col in df_select.columns if col not in feature_exclusion] \n",
    "X = df_select[feature_columns]\n",
    "y = df_select[targets]\n",
    "\n",
    "# Splitting data\n",
    "X_train, X_CV, y_train, y_CV = train_test_split(X, y, test_size=0.2, random_state=0)"
   ]
  },
  {
   "cell_type": "markdown",
   "metadata": {},
   "source": [
    "Here, the targets list can be edited to predict other features, or to predict more features. When this is done, the feature_columns list must be edited such that they exclude the targets list."
   ]
  },
  {
   "attachments": {},
   "cell_type": "markdown",
   "metadata": {},
   "source": [
    "---\n",
    "## 6 Feature Engineering"
   ]
  },
  {
   "cell_type": "markdown",
   "metadata": {},
   "source": [
    "### 6.1 Imputation Flag"
   ]
  },
  {
   "cell_type": "code",
   "execution_count": 398,
   "metadata": {},
   "outputs": [],
   "source": [
    "# Identifying columns with missing values in the training set\n",
    "missing_cols_train = X_train.columns[X_train.isnull().any()].tolist()\n",
    "\n",
    "# Adding indicator feature (imputation flag) to the training set\n",
    "if len(missing_cols_train) > 0:\n",
    "    X_train = X_train.copy()\n",
    "    X_train['impute'] = X_train[missing_cols_train].isnull().astype(int)\n",
    "\n",
    "# Identifying columns with missing values in the validation set\n",
    "missing_cols_CV = X_CV.columns[X_CV.isnull().any()].tolist()\n",
    "\n",
    "# Adding an indicator feature (imputation flag) to the validation set\n",
    "if len(missing_cols_CV) > 0:\n",
    "    X_CV = X_CV.copy()\n",
    "    X_CV['impute'] = X_CV[missing_cols_CV].isnull().astype(int)"
   ]
  },
  {
   "cell_type": "markdown",
   "metadata": {},
   "source": [
    "### 6.2 Polynomial Transformation"
   ]
  },
  {
   "cell_type": "code",
   "execution_count": 399,
   "metadata": {},
   "outputs": [],
   "source": [
    "# Squaring age in the X datasets, due to evidence of a quadratic relationship between age and GMV\n",
    "X_train['Age_squared'] = X_train['Age']**2\n",
    "X_train.insert(0, 'Age_squared', X_train.pop('Age_squared'))\n",
    "X_CV['Age_squared'] = X_CV['Age']**2\n",
    "X_CV.insert(0, 'Age_squared', X_CV.pop('Age_squared'))"
   ]
  },
  {
   "cell_type": "markdown",
   "metadata": {},
   "source": [
    "### 6.3 Imputation via K-Nearest Neighbors Method"
   ]
  },
  {
   "cell_type": "code",
   "execution_count": 400,
   "metadata": {},
   "outputs": [],
   "source": [
    "# Defining ordinal and continuous columns with missing values\n",
    "continuous_missing = []\n",
    "X_train_cont = X_train[continuous_missing]\n",
    "\n",
    "# Initialize results list\n",
    "knn_cv_scores = []\n",
    "\n",
    "# Define the range of neighbors to be tested\n",
    "neighbors = list(range(1, 20))\n",
    "\n",
    "if continuous_missing:\n",
    "    # Cross-validation for KNN Imputer based on the number of neighbors\n",
    "    for k in neighbors:\n",
    "        \n",
    "        # Initialize KNN Imputer with the current number of neighbors\n",
    "        imputer = KNNImputer(n_neighbors=k)\n",
    "        \n",
    "        # Fit the imputer on the training data and transform both training and CV datasets\n",
    "        X_train_imputed = imputer.fit_transform(X_train[continuous_missing])\n",
    "        X_CV_imputed = imputer.transform(X_CV[continuous_missing])\n",
    "        \n",
    "        # Use XGBoost as the model for CV\n",
    "        model = XGBRegressor()\n",
    "        scores = cross_val_score(model, X_train_imputed, y_train, cv=5, scoring='neg_mean_squared_error')\n",
    "        \n",
    "        # Append the mean score to the results list\n",
    "        knn_cv_scores.append(scores.mean())\n",
    "\n",
    "    # Calculate RMSE for each number of neighbors\n",
    "    rmse_scores = [sqrt(abs(score)) for score in knn_cv_scores]\n",
    "\n",
    "    # Find the number of neighbors giving the smallest RMSE\n",
    "    optimal_k = neighbors[rmse_scores.index(min(rmse_scores))]\n",
    "\n",
    "    # Perform the final imputation using the optimal number of neighbors\n",
    "    final_imputer = KNNImputer(n_neighbors=optimal_k)\n",
    "    X_train[continuous_missing] = final_imputer.fit_transform(X_train[continuous_missing])\n",
    "    X_CV[continuous_missing] = final_imputer.transform(X_CV[continuous_missing])"
   ]
  },
  {
   "cell_type": "markdown",
   "metadata": {},
   "source": [
    "### 6.4 Pickling Train/Test Data"
   ]
  },
  {
   "cell_type": "code",
   "execution_count": 401,
   "metadata": {},
   "outputs": [],
   "source": [
    "# Ensuring no missing values left \n",
    "X_train = X_train.dropna()\n",
    "y_train = y_train.loc[X_train.index]\n",
    "X_CV = X_CV.dropna()\n",
    "y_CV = y_CV.loc[X_CV.index]\n",
    "\n",
    "# Copying data\n",
    "X_train_main = X_train.copy()\n",
    "y_train_main = y_train.copy()\n",
    "X_CV_main = X_CV.copy()\n",
    "y_CV_main = y_CV.copy()\n",
    "\n",
    "# Pickling train-validation data\n",
    "if os.path.exists('Models') == False: os.makedirs('Models')\n",
    "pickle.dump(X_train_main, open('Models/X_train_main.pkl', 'wb'))\n",
    "pickle.dump(y_train_main, open('Models/y_train_main.pkl', 'wb'))\n",
    "pickle.dump(X_CV_main, open('Models/X_CV_main.pkl', 'wb'))\n",
    "pickle.dump(y_CV_main, open('Models/y_CV_main.pkl', 'wb'))"
   ]
  },
  {
   "attachments": {},
   "cell_type": "markdown",
   "metadata": {},
   "source": [
    "---\n",
    "## 7 Baseline Models"
   ]
  },
  {
   "attachments": {},
   "cell_type": "markdown",
   "metadata": {},
   "source": [
    "### 7.1 Training Baseline Models"
   ]
  },
  {
   "cell_type": "code",
   "execution_count": 402,
   "metadata": {},
   "outputs": [
    {
     "name": "stderr",
     "output_type": "stream",
     "text": [
      "  0%|          | 0/7 [00:00<?, ?it/s]Objective did not converge. You might want to increase the number of iterations, check the scale of the features or consider increasing regularisation. Duality gap: 2.987e+00, tolerance: 5.170e-02\n",
      "100%|██████████| 7/7 [00:02<00:00,  2.82it/s]\n"
     ]
    }
   ],
   "source": [
    "# Open train-validation data\n",
    "X_train_main = pickle.load(open('Models/X_train_main.pkl','rb'))\n",
    "y_train_main = pickle.load(open('Models/y_train_main.pkl','rb'))\n",
    "# y_train_main = y_train_main.to_frame()\n",
    "X_CV_main = pickle.load(open('Models/X_CV_main.pkl','rb'))\n",
    "y_CV_main = pickle.load(open('Models/y_CV_main.pkl','rb'))\n",
    "# y_CV_main = y_CV_main.to_frame()\n",
    "\n",
    "# Training baseline models\n",
    "if os.path.exists('Models/baselines') == False: os.makedirs('Models/baselines')\n",
    "\n",
    "for target in targets:    \n",
    "    # Ensuring missing values are dropped before training\n",
    "    y_train = y_train_main[target]\n",
    "    X_train = X_train_main.loc[y_train.index.values]\n",
    "\n",
    "    # Z-score standardization of y variable\n",
    "    y_train_mean = y_train.mean()\n",
    "    y_train_std = y_train.std()\n",
    "    y_train_trans = (y_train-y_train_mean)/y_train_std\n",
    "    y_train = y_train_trans\n",
    "    \n",
    "    models = [LinearRegression(), Lasso(random_state = 0), Ridge(random_state = 0), ElasticNet(random_state = 0), RandomForestRegressor(random_state = 0), XGBRegressor(), SVR()]\n",
    "    for model in tqdm(models):\n",
    "        model.fit(X_train, y_train)\n",
    "        model_name = model.__class__.__name__ # Retrieves model class name to make file name shorter (needed for XGBoost)\n",
    "        try:\n",
    "            if (type(model).__name__ == 'XGBRegressor'): fname = f'Models/baselines/{target}_{model_name}.pkl'\n",
    "            else: fname = f'Models/baselines/{target} {str(model)}.pkl'\n",
    "        except:\n",
    "            continue\n",
    "        joblib.dump(model, fname)"
   ]
  },
  {
   "attachments": {},
   "cell_type": "markdown",
   "metadata": {},
   "source": [
    "### 7.2 Baseline Model Results"
   ]
  },
  {
   "cell_type": "code",
   "execution_count": 403,
   "metadata": {},
   "outputs": [
    {
     "data": {
      "text/html": [
       "<div>\n",
       "<style scoped>\n",
       "    .dataframe tbody tr th:only-of-type {\n",
       "        vertical-align: middle;\n",
       "    }\n",
       "\n",
       "    .dataframe tbody tr th {\n",
       "        vertical-align: top;\n",
       "    }\n",
       "\n",
       "    .dataframe thead th {\n",
       "        text-align: right;\n",
       "    }\n",
       "</style>\n",
       "<table border=\"1\" class=\"dataframe\">\n",
       "  <thead>\n",
       "    <tr style=\"text-align: right;\">\n",
       "      <th></th>\n",
       "      <th>variable</th>\n",
       "      <th>model</th>\n",
       "      <th>train_r2</th>\n",
       "      <th>cv_r2</th>\n",
       "      <th>train_rmse</th>\n",
       "      <th>cv_rmse</th>\n",
       "    </tr>\n",
       "  </thead>\n",
       "  <tbody>\n",
       "    <tr>\n",
       "      <th>0</th>\n",
       "      <td>HippGMV</td>\n",
       "      <td>LinearRegression</td>\n",
       "      <td>0.857</td>\n",
       "      <td>0.764</td>\n",
       "      <td>36.082</td>\n",
       "      <td>46.539</td>\n",
       "    </tr>\n",
       "    <tr>\n",
       "      <th>1</th>\n",
       "      <td>HippGMV</td>\n",
       "      <td>Lasso</td>\n",
       "      <td>0.814</td>\n",
       "      <td>0.773</td>\n",
       "      <td>41.052</td>\n",
       "      <td>45.699</td>\n",
       "    </tr>\n",
       "    <tr>\n",
       "      <th>2</th>\n",
       "      <td>HippGMV</td>\n",
       "      <td>Ridge</td>\n",
       "      <td>0.857</td>\n",
       "      <td>0.764</td>\n",
       "      <td>36.083</td>\n",
       "      <td>46.540</td>\n",
       "    </tr>\n",
       "    <tr>\n",
       "      <th>3</th>\n",
       "      <td>HippGMV</td>\n",
       "      <td>ElasticNet</td>\n",
       "      <td>0.834</td>\n",
       "      <td>0.782</td>\n",
       "      <td>38.812</td>\n",
       "      <td>44.795</td>\n",
       "    </tr>\n",
       "    <tr>\n",
       "      <th>4</th>\n",
       "      <td>HippGMV</td>\n",
       "      <td>RandomForestRegressor</td>\n",
       "      <td>0.964</td>\n",
       "      <td>0.740</td>\n",
       "      <td>18.108</td>\n",
       "      <td>48.922</td>\n",
       "    </tr>\n",
       "    <tr>\n",
       "      <th>5</th>\n",
       "      <td>HippGMV</td>\n",
       "      <td>XGBRegressor</td>\n",
       "      <td>1.000</td>\n",
       "      <td>0.718</td>\n",
       "      <td>0.043</td>\n",
       "      <td>50.945</td>\n",
       "    </tr>\n",
       "    <tr>\n",
       "      <th>6</th>\n",
       "      <td>HippGMV</td>\n",
       "      <td>SVR</td>\n",
       "      <td>0.658</td>\n",
       "      <td>0.694</td>\n",
       "      <td>55.738</td>\n",
       "      <td>53.090</td>\n",
       "    </tr>\n",
       "  </tbody>\n",
       "</table>\n",
       "</div>"
      ],
      "text/plain": [
       "  variable                  model  train_r2  cv_r2  train_rmse  cv_rmse\n",
       "0  HippGMV       LinearRegression     0.857  0.764      36.082   46.539\n",
       "1  HippGMV                  Lasso     0.814  0.773      41.052   45.699\n",
       "2  HippGMV                  Ridge     0.857  0.764      36.083   46.540\n",
       "3  HippGMV             ElasticNet     0.834  0.782      38.812   44.795\n",
       "4  HippGMV  RandomForestRegressor     0.964  0.740      18.108   48.922\n",
       "5  HippGMV           XGBRegressor     1.000  0.718       0.043   50.945\n",
       "6  HippGMV                    SVR     0.658  0.694      55.738   53.090"
      ]
     },
     "execution_count": 403,
     "metadata": {},
     "output_type": "execute_result"
    }
   ],
   "source": [
    "results_baseline = pd.DataFrame()\n",
    "# y = y.to_frame()\n",
    "\n",
    "for target in targets:\n",
    "    # Ensuring missing values are dropped before training\n",
    "    y_train = y_train_main[target]\n",
    "    X_train = X_train_main.loc[y_train.index.values]\n",
    "\n",
    "    vars = []\n",
    "    model_type = []\n",
    "    train_r2 = []\n",
    "    cv_r2 = []\n",
    "    train_rmse = []\n",
    "    cv_rmse = []\n",
    "    n_features = []\n",
    "    \n",
    "    models = [LinearRegression(), Lasso(random_state = 0), Ridge(random_state = 0), ElasticNet(random_state = 0), RandomForestRegressor(random_state = 0), XGBRegressor(), SVR()]\n",
    "    for model in models:\n",
    "        model_name = model.__class__.__name__ # Retrieves model class name to make file name shorter (needed for XGBoost)\n",
    "        try:\n",
    "            if (type(model).__name__ == 'XGBRegressor'): model = joblib.load(f'Models/baselines/{target}_{model_name}.pkl')\n",
    "            else: model = joblib.load(f'Models/baselines/{target} {str(model)}.pkl')\n",
    "        except:\n",
    "            continue\n",
    "\n",
    "        vars.append(target)\n",
    "        model_type.append(type(model).__name__)\n",
    "\n",
    "        y_pred = continuous_predict(model, X_train)\n",
    "        train_r2.append(r2_score(y_train, y_pred))\n",
    "        train_rmse.append(np.sqrt(mean_squared_error(y_train, y_pred)))\n",
    "\n",
    "        y_pred = continuous_predict(model, X_CV)\n",
    "        cv_r2.append(r2_score(y_CV, y_pred))\n",
    "        cv_rmse.append(np.sqrt(mean_squared_error(y_CV, y_pred)))\n",
    "\n",
    "    results_baseline2 = pd.DataFrame({'variable': vars, 'model': model_type, 'train_r2': train_r2, 'cv_r2': cv_r2, 'train_rmse': train_rmse, 'cv_rmse': cv_rmse})\n",
    "    results_baseline = pd.concat([results_baseline, results_baseline2], axis=0).reset_index(drop=True)\n",
    "results_baseline = results_baseline.round(3)\n",
    "results_baseline\n"
   ]
  },
  {
   "attachments": {},
   "cell_type": "markdown",
   "metadata": {},
   "source": [
    "---\n",
    "## 8 Hyperparameter Optimization"
   ]
  },
  {
   "attachments": {},
   "cell_type": "markdown",
   "metadata": {},
   "source": [
    "### 8.1 Tuning with Bayesian Search"
   ]
  },
  {
   "cell_type": "code",
   "execution_count": 404,
   "metadata": {},
   "outputs": [
    {
     "name": "stdout",
     "output_type": "stream",
     "text": [
      "Fitting 3 folds for each of 1 candidates, totalling 3 fits\n",
      "Fitting 3 folds for each of 1 candidates, totalling 3 fits\n",
      "Fitting 3 folds for each of 1 candidates, totalling 3 fits\n",
      "Fitting 3 folds for each of 1 candidates, totalling 3 fits\n",
      "Fitting 3 folds for each of 1 candidates, totalling 3 fits\n"
     ]
    },
    {
     "name": "stderr",
     "output_type": "stream",
     "text": [
      "/Users/williamyang/anaconda3/lib/python3.10/site-packages/sklearn/linear_model/_coordinate_descent.py:628: ConvergenceWarning: Objective did not converge. You might want to increase the number of iterations, check the scale of the features or consider increasing regularisation. Duality gap: 3.862e+00, tolerance: 3.287e-02\n",
      "  model = cd_fast.enet_coordinate_descent(\n",
      "/Users/williamyang/anaconda3/lib/python3.10/site-packages/sklearn/linear_model/_coordinate_descent.py:628: ConvergenceWarning: Objective did not converge. You might want to increase the number of iterations, check the scale of the features or consider increasing regularisation. Duality gap: 5.303e+00, tolerance: 3.543e-02\n",
      "  model = cd_fast.enet_coordinate_descent(\n",
      "/Users/williamyang/anaconda3/lib/python3.10/site-packages/sklearn/linear_model/_coordinate_descent.py:628: ConvergenceWarning: Objective did not converge. You might want to increase the number of iterations, check the scale of the features or consider increasing regularisation. Duality gap: 8.033e+00, tolerance: 3.504e-02\n",
      "  model = cd_fast.enet_coordinate_descent(\n"
     ]
    },
    {
     "name": "stdout",
     "output_type": "stream",
     "text": [
      "Fitting 3 folds for each of 1 candidates, totalling 3 fits\n",
      "Fitting 3 folds for each of 1 candidates, totalling 3 fits\n",
      "Fitting 3 folds for each of 1 candidates, totalling 3 fits\n",
      "Fitting 3 folds for each of 1 candidates, totalling 3 fits\n"
     ]
    },
    {
     "name": "stderr",
     "output_type": "stream",
     "text": [
      "/Users/williamyang/anaconda3/lib/python3.10/site-packages/sklearn/linear_model/_coordinate_descent.py:628: ConvergenceWarning: Objective did not converge. You might want to increase the number of iterations, check the scale of the features or consider increasing regularisation. Duality gap: 1.595e-01, tolerance: 3.504e-02\n",
      "  model = cd_fast.enet_coordinate_descent(\n"
     ]
    },
    {
     "name": "stdout",
     "output_type": "stream",
     "text": [
      "Fitting 3 folds for each of 1 candidates, totalling 3 fits\n"
     ]
    },
    {
     "name": "stderr",
     "output_type": "stream",
     "text": [
      "Objective did not converge. You might want to increase the number of iterations, check the scale of the features or consider increasing regularisation. Duality gap: 6.467e+00, tolerance: 5.170e-02\n"
     ]
    },
    {
     "name": "stdout",
     "output_type": "stream",
     "text": [
      "Fitting 3 folds for each of 1 candidates, totalling 3 fits\n",
      "Fitting 3 folds for each of 1 candidates, totalling 3 fits\n",
      "Fitting 3 folds for each of 1 candidates, totalling 3 fits\n",
      "Fitting 3 folds for each of 1 candidates, totalling 3 fits\n",
      "Fitting 3 folds for each of 1 candidates, totalling 3 fits\n",
      "Fitting 3 folds for each of 1 candidates, totalling 3 fits\n",
      "Fitting 3 folds for each of 1 candidates, totalling 3 fits\n",
      "Fitting 3 folds for each of 1 candidates, totalling 3 fits\n",
      "Fitting 3 folds for each of 1 candidates, totalling 3 fits\n",
      "Fitting 3 folds for each of 1 candidates, totalling 3 fits\n",
      "Fitting 3 folds for each of 1 candidates, totalling 3 fits\n",
      "Fitting 3 folds for each of 1 candidates, totalling 3 fits\n",
      "Fitting 3 folds for each of 1 candidates, totalling 3 fits\n",
      "Fitting 3 folds for each of 1 candidates, totalling 3 fits\n",
      "Fitting 3 folds for each of 1 candidates, totalling 3 fits\n",
      "Fitting 3 folds for each of 1 candidates, totalling 3 fits\n",
      "Fitting 3 folds for each of 1 candidates, totalling 3 fits\n",
      "Fitting 3 folds for each of 1 candidates, totalling 3 fits\n",
      "Fitting 3 folds for each of 1 candidates, totalling 3 fits\n",
      "Fitting 3 folds for each of 1 candidates, totalling 3 fits\n"
     ]
    }
   ],
   "source": [
    "bayestune_iter = 10 # Setting number of iterations for Bayesian search\n",
    "\n",
    "# Set directory for pickling Bayesian Search model\n",
    "if os.path.exists('Models/bayesiansearch') == False: os.makedirs('Models/bayesiansearch')\n",
    "\n",
    "for target in targets:\n",
    "    # Ensuring missing values are dropped before training\n",
    "    y_train = y_train_main[target].dropna()\n",
    "    X_train = X_train_main.loc[y_train.index.values]\n",
    "\n",
    "    # Z-score standardization of y variable \n",
    "    y_train_mean = y_train.mean()\n",
    "    y_train_std = y_train.std()\n",
    "    y_train_trans = (y_train-y_train_mean)/y_train_std\n",
    "    y_train = y_train_trans\n",
    "\n",
    "    # Initialize preprocessing objects\n",
    "    cols = list(X_train.columns)\n",
    "    preprocessor = ColumnTransformer([('standard', StandardScaler(), [])], remainder='passthrough')\n",
    "    skb = SelectKBest(score_func=mutual_info_regression)\n",
    "\n",
    "    # Initialize estimators\n",
    "    model1 = ElasticNet(random_state = 0)\n",
    "    model2 = XGBRegressor()\n",
    "    model3 = RandomForestRegressor(random_state = 0)\n",
    "\n",
    "    # Create pipeline\n",
    "    pipe = Pipeline(steps=[('preprocessor', preprocessor), ('skb', skb), ('model', model1)])\n",
    "    \n",
    "    # Initialize hyperparameters for elasticnet\n",
    "    param1 = {}\n",
    "    param1['preprocessor__standard'] = Categorical([ColumnTransformer([('standard', StandardScaler(), [])], remainder='passthrough'), ColumnTransformer([('standard', StandardScaler(), cols)], remainder='passthrough')])\n",
    "    param1['skb__k'] = Integer(10, len(X_train.columns), \"log-uniform\")\n",
    "    param1['model__alpha'] = Real(0.001, 10)\n",
    "    param1['model__l1_ratio'] = Real(0, 1)\n",
    "    param1['model'] = Categorical([model1])\n",
    "\n",
    "    # Run Bayesian Search for elasticnet\n",
    "    params = [param1]\n",
    "    search = BayesSearchCV(pipe, params, scoring='neg_mean_squared_error', cv = 3, verbose = 1, n_iter = bayestune_iter, n_jobs = -1)\n",
    "    search.fit(X_train, y_train)\n",
    "    fname = f'Models/bayesiansearch/{target} elasticnet bayesian.pkl'\n",
    "    joblib.dump(search, fname)\n",
    "\n",
    "    # Initialize the hyperparameters for XGBoost\n",
    "    param2 = {}\n",
    "    param2['preprocessor__standard'] = Categorical([ColumnTransformer([('standard', StandardScaler(), [])], remainder='passthrough'), ColumnTransformer([('standard', StandardScaler(), cols)], remainder='passthrough')])\n",
    "    param2['skb__k'] = Integer(10, len(X_train.columns), \"log-uniform\")\n",
    "    param2['model__gamma'] = Real(0.001, 10.0)\n",
    "    param2['model__min_child_weight'] = Integer(1, 20)\n",
    "    param2['model__learning_rate'] = Real(0.01, 0.3)\n",
    "    param2['model__colsample_bytree'] = Real(0.4, 0.8)\n",
    "    param2['model__subsample'] = Real(0.4, 0.8)\n",
    "    param2['model__n_estimators'] = list(range(50, 1001, 50))\n",
    "    param2['model__max_depth'] = Integer(1, 10)\n",
    "    param2['model'] = Categorical([model2])\n",
    "\n",
    "    # Run Bayesian Search for XGBoost\n",
    "    params = [param2]\n",
    "    search = BayesSearchCV(pipe, params, scoring='neg_mean_squared_error', cv = 3, verbose = 1, n_iter = bayestune_iter, n_jobs = -1)\n",
    "    search.fit(X_train, y_train)\n",
    "    fname = f'Models/bayesiansearch/{target} xgboost bayesian.pkl'\n",
    "    joblib.dump(search, fname)\n",
    "\n",
    "    # Initialize the hyperparameters for randomforest\n",
    "    param3 = {}\n",
    "    param3['preprocessor__standard'] = Categorical([ColumnTransformer([('standard', StandardScaler(), [])], remainder='passthrough'), ColumnTransformer([('standard', StandardScaler(), cols)], remainder='passthrough')])\n",
    "    param3['skb__k'] = Integer(10, len(X_train.columns), \"log-uniform\")\n",
    "    param3['model__max_features'] = Categorical(['sqrt', 'log2'])\n",
    "    param3['model__n_estimators'] = Integer(100, 1000)\n",
    "    param3['model__max_depth'] = Integer(1,120)\n",
    "    param3['model'] = [model3]\n",
    "\n",
    "    # Run Bayesian Search for randomforest\n",
    "    params = [param3]\n",
    "    search = BayesSearchCV(pipe, params, scoring='neg_mean_squared_error', cv = 3, verbose = 1, n_iter = bayestune_iter, n_jobs = -1)\n",
    "    search.fit(X_train, y_train)\n",
    "    fname = f'Models/bayesiansearch/{target} randomforest bayesian.pkl'\n",
    "    joblib.dump(search, fname)\n"
   ]
  },
  {
   "attachments": {},
   "cell_type": "markdown",
   "metadata": {},
   "source": [
    "### 8.2 Tuning with Randomized Search"
   ]
  },
  {
   "cell_type": "code",
   "execution_count": 405,
   "metadata": {},
   "outputs": [
    {
     "name": "stdout",
     "output_type": "stream",
     "text": [
      "Fitting 3 folds for each of 10 candidates, totalling 30 fits\n"
     ]
    },
    {
     "name": "stderr",
     "output_type": "stream",
     "text": [
      "/Users/williamyang/anaconda3/lib/python3.10/site-packages/sklearn/linear_model/_coordinate_descent.py:628: ConvergenceWarning: Objective did not converge. You might want to increase the number of iterations, check the scale of the features or consider increasing regularisation. Duality gap: 1.956e+01, tolerance: 3.543e-02\n",
      "  model = cd_fast.enet_coordinate_descent(\n",
      "/Users/williamyang/anaconda3/lib/python3.10/site-packages/sklearn/linear_model/_coordinate_descent.py:628: ConvergenceWarning: Objective did not converge. You might want to increase the number of iterations, check the scale of the features or consider increasing regularisation. Duality gap: 1.970e+01, tolerance: 3.287e-02\n",
      "  model = cd_fast.enet_coordinate_descent(\n",
      "/Users/williamyang/anaconda3/lib/python3.10/site-packages/sklearn/linear_model/_coordinate_descent.py:628: ConvergenceWarning: Objective did not converge. You might want to increase the number of iterations, check the scale of the features or consider increasing regularisation. Duality gap: 2.437e+01, tolerance: 3.287e-02\n",
      "  model = cd_fast.enet_coordinate_descent(\n",
      "/Users/williamyang/anaconda3/lib/python3.10/site-packages/sklearn/linear_model/_coordinate_descent.py:628: ConvergenceWarning: Objective did not converge. You might want to increase the number of iterations, check the scale of the features or consider increasing regularisation. Duality gap: 2.490e+01, tolerance: 3.543e-02\n",
      "  model = cd_fast.enet_coordinate_descent(\n",
      "/Users/williamyang/anaconda3/lib/python3.10/site-packages/sklearn/linear_model/_coordinate_descent.py:628: ConvergenceWarning: Objective did not converge. You might want to increase the number of iterations, check the scale of the features or consider increasing regularisation. Duality gap: 3.190e+01, tolerance: 3.504e-02\n",
      "  model = cd_fast.enet_coordinate_descent(\n",
      "/Users/williamyang/anaconda3/lib/python3.10/site-packages/sklearn/linear_model/_coordinate_descent.py:628: ConvergenceWarning: Objective did not converge. You might want to increase the number of iterations, check the scale of the features or consider increasing regularisation. Duality gap: 2.439e+01, tolerance: 3.287e-02\n",
      "  model = cd_fast.enet_coordinate_descent(\n",
      "/Users/williamyang/anaconda3/lib/python3.10/site-packages/sklearn/linear_model/_coordinate_descent.py:628: ConvergenceWarning: Objective did not converge. You might want to increase the number of iterations, check the scale of the features or consider increasing regularisation. Duality gap: 2.491e+01, tolerance: 3.543e-02\n",
      "  model = cd_fast.enet_coordinate_descent(\n",
      "/Users/williamyang/anaconda3/lib/python3.10/site-packages/sklearn/linear_model/_coordinate_descent.py:628: ConvergenceWarning: Objective did not converge. You might want to increase the number of iterations, check the scale of the features or consider increasing regularisation. Duality gap: 4.379e+00, tolerance: 3.543e-02\n",
      "  model = cd_fast.enet_coordinate_descent(\n",
      "/Users/williamyang/anaconda3/lib/python3.10/site-packages/sklearn/linear_model/_coordinate_descent.py:628: ConvergenceWarning: Objective did not converge. You might want to increase the number of iterations, check the scale of the features or consider increasing regularisation. Duality gap: 3.191e+01, tolerance: 3.504e-02\n",
      "  model = cd_fast.enet_coordinate_descent(\n",
      "/Users/williamyang/anaconda3/lib/python3.10/site-packages/sklearn/linear_model/_coordinate_descent.py:628: ConvergenceWarning: Objective did not converge. You might want to increase the number of iterations, check the scale of the features or consider increasing regularisation. Duality gap: 2.294e+01, tolerance: 3.287e-02\n",
      "  model = cd_fast.enet_coordinate_descent(\n",
      "/Users/williamyang/anaconda3/lib/python3.10/site-packages/sklearn/linear_model/_coordinate_descent.py:628: ConvergenceWarning: Objective did not converge. You might want to increase the number of iterations, check the scale of the features or consider increasing regularisation. Duality gap: 2.479e+01, tolerance: 3.504e-02\n",
      "  model = cd_fast.enet_coordinate_descent(\n",
      "/Users/williamyang/anaconda3/lib/python3.10/site-packages/sklearn/linear_model/_coordinate_descent.py:628: ConvergenceWarning: Objective did not converge. You might want to increase the number of iterations, check the scale of the features or consider increasing regularisation. Duality gap: 3.188e+01, tolerance: 3.504e-02\n",
      "  model = cd_fast.enet_coordinate_descent(\n",
      "/Users/williamyang/anaconda3/lib/python3.10/site-packages/sklearn/linear_model/_coordinate_descent.py:628: ConvergenceWarning: Objective did not converge. You might want to increase the number of iterations, check the scale of the features or consider increasing regularisation. Duality gap: 1.310e+01, tolerance: 3.287e-02\n",
      "  model = cd_fast.enet_coordinate_descent(\n",
      "/Users/williamyang/anaconda3/lib/python3.10/site-packages/sklearn/linear_model/_coordinate_descent.py:628: ConvergenceWarning: Objective did not converge. You might want to increase the number of iterations, check the scale of the features or consider increasing regularisation. Duality gap: 1.219e+01, tolerance: 3.543e-02\n",
      "  model = cd_fast.enet_coordinate_descent(\n",
      "/Users/williamyang/anaconda3/lib/python3.10/site-packages/sklearn/linear_model/_coordinate_descent.py:628: ConvergenceWarning: Objective did not converge. You might want to increase the number of iterations, check the scale of the features or consider increasing regularisation. Duality gap: 1.846e+01, tolerance: 3.504e-02\n",
      "  model = cd_fast.enet_coordinate_descent(\n",
      "/Users/williamyang/anaconda3/lib/python3.10/site-packages/sklearn/linear_model/_coordinate_descent.py:628: ConvergenceWarning: Objective did not converge. You might want to increase the number of iterations, check the scale of the features or consider increasing regularisation. Duality gap: 2.399e+01, tolerance: 3.543e-02\n",
      "  model = cd_fast.enet_coordinate_descent(\n",
      "/Users/williamyang/anaconda3/lib/python3.10/site-packages/sklearn/linear_model/_coordinate_descent.py:628: ConvergenceWarning: Objective did not converge. You might want to increase the number of iterations, check the scale of the features or consider increasing regularisation. Duality gap: 2.219e+01, tolerance: 3.287e-02\n",
      "  model = cd_fast.enet_coordinate_descent(\n",
      "/Users/williamyang/anaconda3/lib/python3.10/site-packages/sklearn/linear_model/_coordinate_descent.py:628: ConvergenceWarning: Objective did not converge. You might want to increase the number of iterations, check the scale of the features or consider increasing regularisation. Duality gap: 3.100e+01, tolerance: 3.504e-02\n",
      "  model = cd_fast.enet_coordinate_descent(\n"
     ]
    },
    {
     "name": "stdout",
     "output_type": "stream",
     "text": [
      "Fitting 3 folds for each of 10 candidates, totalling 30 fits\n",
      "Fitting 3 folds for each of 10 candidates, totalling 30 fits\n"
     ]
    },
    {
     "name": "stderr",
     "output_type": "stream",
     "text": [
      "\n",
      "15 fits failed out of a total of 30.\n",
      "The score on these train-test partitions for these parameters will be set to nan.\n",
      "If these failures are not expected, you can try to debug them by setting error_score='raise'.\n",
      "\n",
      "Below are more details about the failures:\n",
      "--------------------------------------------------------------------------------\n",
      "9 fits failed with the following error:\n",
      "Traceback (most recent call last):\n",
      "  File \"/Users/williamyang/anaconda3/lib/python3.10/site-packages/sklearn/model_selection/_validation.py\", line 732, in _fit_and_score\n",
      "    estimator.fit(X_train, y_train, **fit_params)\n",
      "  File \"/Users/williamyang/anaconda3/lib/python3.10/site-packages/sklearn/base.py\", line 1151, in wrapper\n",
      "    return fit_method(estimator, *args, **kwargs)\n",
      "  File \"/Users/williamyang/anaconda3/lib/python3.10/site-packages/sklearn/pipeline.py\", line 420, in fit\n",
      "    self._final_estimator.fit(Xt, y, **fit_params_last_step)\n",
      "  File \"/Users/williamyang/anaconda3/lib/python3.10/site-packages/sklearn/base.py\", line 1144, in wrapper\n",
      "    estimator._validate_params()\n",
      "  File \"/Users/williamyang/anaconda3/lib/python3.10/site-packages/sklearn/base.py\", line 637, in _validate_params\n",
      "    validate_parameter_constraints(\n",
      "  File \"/Users/williamyang/anaconda3/lib/python3.10/site-packages/sklearn/utils/_param_validation.py\", line 95, in validate_parameter_constraints\n",
      "    raise InvalidParameterError(\n",
      "sklearn.utils._param_validation.InvalidParameterError: The 'max_features' parameter of RandomForestRegressor must be an int in the range [1, inf), a float in the range (0.0, 1.0], a str among {'sqrt', 'log2'} or None. Got 'auto' instead.\n",
      "\n",
      "--------------------------------------------------------------------------------\n",
      "6 fits failed with the following error:\n",
      "Traceback (most recent call last):\n",
      "  File \"/Users/williamyang/anaconda3/lib/python3.10/site-packages/sklearn/model_selection/_validation.py\", line 732, in _fit_and_score\n",
      "    estimator.fit(X_train, y_train, **fit_params)\n",
      "  File \"/Users/williamyang/anaconda3/lib/python3.10/site-packages/sklearn/base.py\", line 1151, in wrapper\n",
      "    return fit_method(estimator, *args, **kwargs)\n",
      "  File \"/Users/williamyang/anaconda3/lib/python3.10/site-packages/sklearn/pipeline.py\", line 420, in fit\n",
      "    self._final_estimator.fit(Xt, y, **fit_params_last_step)\n",
      "  File \"/Users/williamyang/anaconda3/lib/python3.10/site-packages/sklearn/base.py\", line 1144, in wrapper\n",
      "    estimator._validate_params()\n",
      "  File \"/Users/williamyang/anaconda3/lib/python3.10/site-packages/sklearn/base.py\", line 637, in _validate_params\n",
      "    validate_parameter_constraints(\n",
      "  File \"/Users/williamyang/anaconda3/lib/python3.10/site-packages/sklearn/utils/_param_validation.py\", line 95, in validate_parameter_constraints\n",
      "    raise InvalidParameterError(\n",
      "sklearn.utils._param_validation.InvalidParameterError: The 'max_features' parameter of RandomForestRegressor must be an int in the range [1, inf), a float in the range (0.0, 1.0], a str among {'log2', 'sqrt'} or None. Got 'auto' instead.\n",
      "\n",
      "One or more of the test scores are non-finite: [-0.27611941         nan -0.24959675         nan -0.26900716         nan\n",
      "         nan -0.28155944         nan -0.26881253]\n"
     ]
    }
   ],
   "source": [
    "randomtune_iter = 10 # Setting number of iterations for Randomized search\n",
    "\n",
    "# Set directory for pickling Randomized Search models\n",
    "if os.path.exists('Models/randomizedsearch') == False: os.makedirs('Models/randomizedsearch')\n",
    "\n",
    "for target in targets:\n",
    "    # Ensuring missing values are dropped before training\n",
    "    y_train = y_train_main[target].dropna()\n",
    "    X_train = X_train_main.loc[y_train.index.values]\n",
    "\n",
    "    # Z-score standardization of y variable \n",
    "    y_train_mean = y_train.mean()\n",
    "    y_train_std = y_train.std()\n",
    "    y_train_trans = (y_train-y_train_mean)/y_train_std\n",
    "    y_train = y_train_trans\n",
    "\n",
    "    # Initialize preprocessing objects\n",
    "    cols = list(X_train.columns)\n",
    "    preprocessor = ColumnTransformer([('standard', StandardScaler(), [])], remainder='passthrough')\n",
    "    skb = SelectKBest(score_func=mutual_info_regression)\n",
    "\n",
    "    # Initialize estimators\n",
    "    model1 = ElasticNet(random_state = 0)\n",
    "    model2 = XGBRegressor()\n",
    "    model3 = RandomForestRegressor(random_state = 0)\n",
    "\n",
    "    # Create pipeline\n",
    "    pipe = Pipeline(steps=[('preprocessor', preprocessor), ('skb', skb), ('model', model1)])\n",
    "\n",
    "    # Initialize hyperparameters for elasticnet\n",
    "    param1 = {}\n",
    "    param1['preprocessor__standard'] = [ColumnTransformer([('standard', StandardScaler(), [])], remainder='passthrough'), ColumnTransformer([('standard', StandardScaler(), cols)], remainder='passthrough')]\n",
    "    param1['skb__k'] = [35, 40, 45, 50, 55, 60, len(X_train.columns)]\n",
    "    param1['model__alpha'] = np.logspace(-4, 2, num=10)\n",
    "    param1['model__l1_ratio'] = arange(0, 1.01, 0.01) \n",
    "    param1['model'] = [model1]\n",
    "\n",
    "    # Run Randomized Search for elasticnet\n",
    "    params = [param1]\n",
    "    search = RandomizedSearchCV(pipe, params, n_jobs=-1, scoring='neg_mean_squared_error', cv = 3, verbose = 1, n_iter = randomtune_iter)\n",
    "    search.fit(X_train, y_train)\n",
    "    fname = f'Models/randomizedsearch/{target} elasticnet randomized.pkl'\n",
    "    joblib.dump(search, fname)\n",
    "\n",
    "    # Initialize the hyperparameters for XGBoost\n",
    "    param2 = {}\n",
    "    param2['preprocessor__standard'] = [ColumnTransformer([('standard', StandardScaler(), [])], remainder='passthrough'), ColumnTransformer([('standard', StandardScaler(), cols)], remainder='passthrough')]\n",
    "    param2['skb__k'] = [35, 40, 45, 50, 55, 60, len(X_train.columns)]\n",
    "    param2['model__max_depth'] = np.arange(1, 10, 1)\n",
    "    param2['model__learning_rate'] = np.arange(0.01, 0.1, 0.01)\n",
    "    param2['model__subsample'] = np.arange(0.6, 1.0, 0.1)\n",
    "    param2['model__n_estimators'] = np.arange(100, 1000, 100)\n",
    "    param2['model'] = [model2]\n",
    "\n",
    "    # Run Randomized Search for XGBoost\n",
    "    params = [param2]\n",
    "    search = RandomizedSearchCV(pipe, params, n_jobs=-1, scoring='neg_mean_squared_error', cv = 3, verbose = 1, n_iter = randomtune_iter)\n",
    "    search.fit(X_train, y_train)\n",
    "    fname = f'Models/randomizedsearch/{target} xgboost randomized.pkl'\n",
    "    joblib.dump(search, fname)\n",
    "\n",
    "    # Initialize the hyperparameters for randomforest\n",
    "    param3 = {}\n",
    "    param3['preprocessor__standard'] = [ColumnTransformer([('standard', StandardScaler(), [])], remainder='passthrough'), ColumnTransformer([('standard', StandardScaler(), cols)], remainder='passthrough')]\n",
    "    param3['skb__k'] = [10, 15, 20, 25, 30, 40, 50, 75, len(X_train.columns)]\n",
    "    param3['model__max_features'] = ['auto', 'sqrt']\n",
    "    param3['model__n_estimators'] = np.arange(100, 1000, 100)\n",
    "    param3['model__max_depth'] = np.arange(0, 120, 10)\n",
    "    param3['model'] = [model3]\n",
    "\n",
    "    # Run Randomized Search for randomforest\n",
    "    params = [param3]\n",
    "    search = RandomizedSearchCV(pipe, params, n_jobs=-1, scoring='neg_mean_squared_error', cv = 3, verbose = 1, n_iter = randomtune_iter)\n",
    "    search.fit(X_train, y_train)\n",
    "    fname = f'Models/randomizedsearch/{target} randomforest randomized.pkl'\n",
    "    joblib.dump(search, fname)"
   ]
  },
  {
   "cell_type": "markdown",
   "metadata": {},
   "source": [
    "### 8.3 Tuning Results"
   ]
  },
  {
   "cell_type": "code",
   "execution_count": 406,
   "metadata": {},
   "outputs": [
    {
     "data": {
      "text/html": [
       "<div>\n",
       "<style scoped>\n",
       "    .dataframe tbody tr th:only-of-type {\n",
       "        vertical-align: middle;\n",
       "    }\n",
       "\n",
       "    .dataframe tbody tr th {\n",
       "        vertical-align: top;\n",
       "    }\n",
       "\n",
       "    .dataframe thead th {\n",
       "        text-align: right;\n",
       "    }\n",
       "</style>\n",
       "<table border=\"1\" class=\"dataframe\">\n",
       "  <thead>\n",
       "    <tr style=\"text-align: right;\">\n",
       "      <th></th>\n",
       "      <th>variable</th>\n",
       "      <th>search</th>\n",
       "      <th>model</th>\n",
       "      <th>scaler</th>\n",
       "      <th>n_features</th>\n",
       "      <th>params</th>\n",
       "      <th>train_r2</th>\n",
       "      <th>cv_r2</th>\n",
       "      <th>train_rmse</th>\n",
       "      <th>cv_rmse</th>\n",
       "    </tr>\n",
       "  </thead>\n",
       "  <tbody>\n",
       "    <tr>\n",
       "      <th>0</th>\n",
       "      <td>HippGMV</td>\n",
       "      <td>randomizedsearch</td>\n",
       "      <td>ElasticNet</td>\n",
       "      <td>ordinal + continuous</td>\n",
       "      <td>55</td>\n",
       "      <td>{'alpha': 4.641588833612772, 'l1_ratio': 0.32}</td>\n",
       "      <td>0.784</td>\n",
       "      <td>0.771</td>\n",
       "      <td>44.300</td>\n",
       "      <td>45.882</td>\n",
       "    </tr>\n",
       "    <tr>\n",
       "      <th>1</th>\n",
       "      <td>HippGMV</td>\n",
       "      <td>randomizedsearch</td>\n",
       "      <td>RandomForestRegressor</td>\n",
       "      <td>none</td>\n",
       "      <td>10</td>\n",
       "      <td>{'max_depth': 110, 'max_features': 'sqrt', 'n_...</td>\n",
       "      <td>0.966</td>\n",
       "      <td>0.752</td>\n",
       "      <td>17.474</td>\n",
       "      <td>47.742</td>\n",
       "    </tr>\n",
       "    <tr>\n",
       "      <th>2</th>\n",
       "      <td>HippGMV</td>\n",
       "      <td>randomizedsearch</td>\n",
       "      <td>XGBRegressor</td>\n",
       "      <td>ordinal + continuous</td>\n",
       "      <td>55</td>\n",
       "      <td>{'learning_rate': 0.03, 'max_depth': 1, 'n_est...</td>\n",
       "      <td>0.843</td>\n",
       "      <td>0.748</td>\n",
       "      <td>37.724</td>\n",
       "      <td>48.167</td>\n",
       "    </tr>\n",
       "    <tr>\n",
       "      <th>3</th>\n",
       "      <td>HippGMV</td>\n",
       "      <td>bayesiansearch</td>\n",
       "      <td>ElasticNet</td>\n",
       "      <td>ordinal + continuous</td>\n",
       "      <td>73</td>\n",
       "      <td>{'alpha': 1.1503314517706122, 'l1_ratio': 0.21...</td>\n",
       "      <td>0.830</td>\n",
       "      <td>0.782</td>\n",
       "      <td>39.244</td>\n",
       "      <td>44.816</td>\n",
       "    </tr>\n",
       "    <tr>\n",
       "      <th>4</th>\n",
       "      <td>HippGMV</td>\n",
       "      <td>bayesiansearch</td>\n",
       "      <td>RandomForestRegressor</td>\n",
       "      <td>ordinal + continuous</td>\n",
       "      <td>12</td>\n",
       "      <td>{'max_depth': 77, 'max_features': 'sqrt', 'n_e...</td>\n",
       "      <td>0.966</td>\n",
       "      <td>0.753</td>\n",
       "      <td>17.475</td>\n",
       "      <td>47.616</td>\n",
       "    </tr>\n",
       "    <tr>\n",
       "      <th>5</th>\n",
       "      <td>HippGMV</td>\n",
       "      <td>bayesiansearch</td>\n",
       "      <td>XGBRegressor</td>\n",
       "      <td>none</td>\n",
       "      <td>74</td>\n",
       "      <td>{'colsample_bytree': 0.4776136721334241, 'gamm...</td>\n",
       "      <td>0.821</td>\n",
       "      <td>0.749</td>\n",
       "      <td>40.305</td>\n",
       "      <td>48.033</td>\n",
       "    </tr>\n",
       "  </tbody>\n",
       "</table>\n",
       "</div>"
      ],
      "text/plain": [
       "  variable            search                  model                scaler  \\\n",
       "0  HippGMV  randomizedsearch             ElasticNet  ordinal + continuous   \n",
       "1  HippGMV  randomizedsearch  RandomForestRegressor                  none   \n",
       "2  HippGMV  randomizedsearch           XGBRegressor  ordinal + continuous   \n",
       "3  HippGMV    bayesiansearch             ElasticNet  ordinal + continuous   \n",
       "4  HippGMV    bayesiansearch  RandomForestRegressor  ordinal + continuous   \n",
       "5  HippGMV    bayesiansearch           XGBRegressor                  none   \n",
       "\n",
       "   n_features                                             params  train_r2  \\\n",
       "0          55     {'alpha': 4.641588833612772, 'l1_ratio': 0.32}     0.784   \n",
       "1          10  {'max_depth': 110, 'max_features': 'sqrt', 'n_...     0.966   \n",
       "2          55  {'learning_rate': 0.03, 'max_depth': 1, 'n_est...     0.843   \n",
       "3          73  {'alpha': 1.1503314517706122, 'l1_ratio': 0.21...     0.830   \n",
       "4          12  {'max_depth': 77, 'max_features': 'sqrt', 'n_e...     0.966   \n",
       "5          74  {'colsample_bytree': 0.4776136721334241, 'gamm...     0.821   \n",
       "\n",
       "   cv_r2  train_rmse  cv_rmse  \n",
       "0  0.771      44.300   45.882  \n",
       "1  0.752      17.474   47.742  \n",
       "2  0.748      37.724   48.167  \n",
       "3  0.782      39.244   44.816  \n",
       "4  0.753      17.475   47.616  \n",
       "5  0.749      40.305   48.033  "
      ]
     },
     "execution_count": 406,
     "metadata": {},
     "output_type": "execute_result"
    }
   ],
   "source": [
    "# Results of Hyperoptimization\n",
    "results_tuned = pd.DataFrame()\n",
    "\n",
    "for target in targets:\n",
    "    # Ensuring missing values are dropped before training\n",
    "    y_train = y_train_main[target].dropna()\n",
    "    X_train = X_train_main.loc[y_train.index.values]\n",
    "\n",
    "    # Drop NA for CV\n",
    "    y_CV = y_CV_main[target].dropna()\n",
    "    X_CV = X_CV_main.loc[y_CV.index.values]\n",
    "\n",
    "    vars = []\n",
    "    search_type =[]\n",
    "    model_type = []\n",
    "    scaler = []\n",
    "    n_features = []\n",
    "    params = []\n",
    "    train_r2 = []\n",
    "    cv_r2 = []\n",
    "    train_rmse = []\n",
    "    cv_rmse = []\n",
    "    \n",
    "    searches = ['randomizedsearch','bayesiansearch', 'gridsearch']\n",
    "    models = ['elasticnet', 'randomforest', 'xgboost']\n",
    "    for searchcv in searches:\n",
    "        for model in models: \n",
    "            # Read model, calculate scores, store in a dataframe\n",
    "            try:\n",
    "                search = joblib.load(f'Models/{searchcv}/{target} {model} {searchcv[:-6]}.pkl')\n",
    "                # Models/bayesiansearch/{target} elasticnet bayesian.pkl\n",
    "            except:\n",
    "                continue\n",
    "            \n",
    "            vars.append(target)\n",
    "            search_type.append(searchcv)\n",
    "            model_type.append(type(search.best_params_['model']).__name__)\n",
    "\n",
    "            # Get model params\n",
    "            if '[]' in str(search.best_params_['preprocessor__standard']): scaler.append('none')\n",
    "            else: scaler.append('ordinal + continuous')\n",
    "\n",
    "            n_features.append(search.best_params_['skb__k'])\n",
    "\n",
    "            model_params = [key for key in search.best_params_.keys() if key != 'model' and key[0:5] == 'model']\n",
    "            model_params.sort()\n",
    "            model_params = {key[7:] : search.best_params_[key] for key in model_params}\n",
    "            params.append(model_params)\n",
    "\n",
    "            y_pred = continuous_predict(search, X_train)\n",
    "            train_r2.append(r2_score(y_train, y_pred))\n",
    "            train_rmse.append(np.sqrt(mean_squared_error(y_train, y_pred)))      \n",
    "\n",
    "            y_pred = continuous_predict(search, X_CV)\n",
    "            cv_r2.append(r2_score(y_CV, y_pred))\n",
    "            cv_rmse.append(np.sqrt(mean_squared_error(y_CV, y_pred)))\n",
    "\n",
    "    results_tuned1 = pd.DataFrame({'variable': vars, 'search': search_type, 'model': model_type, 'scaler' : scaler, 'n_features' : n_features, 'params' : params, 'train_r2': train_r2, 'cv_r2': cv_r2, 'train_rmse': train_rmse, 'cv_rmse': cv_rmse})\n",
    "    results_tuned = pd.concat([results_tuned, results_tuned1], axis=0).reset_index(drop=True)\n",
    "results_tuned = results_tuned.round(3)\n",
    "results_tuned"
   ]
  },
  {
   "attachments": {},
   "cell_type": "markdown",
   "metadata": {},
   "source": [
    "---\n",
    "## 9 Model Testing & Evaluation"
   ]
  },
  {
   "cell_type": "markdown",
   "metadata": {},
   "source": [
    "### 9.1 Loading Patient Dataset for Testing"
   ]
  },
  {
   "cell_type": "code",
   "execution_count": 407,
   "metadata": {},
   "outputs": [],
   "source": [
    "# Loading data\n",
    "patient_source_df = pd.read_csv('Source/patient_data.csv', sep=',', header=0, index_col=0)\n",
    "nvoxels = pd.read_csv('Source/Nvoxel_table.csv', sep=',', header=0, index_col=False) # Dataframe with number of voxels in each ROI\n",
    "demo_df = pd.read_csv('Source/Subject_Demographics.csv', sep=',', header=0, index_col=0)"
   ]
  },
  {
   "cell_type": "markdown",
   "metadata": {},
   "source": [
    "### 9.2 Processing Patient Dataset"
   ]
  },
  {
   "cell_type": "code",
   "execution_count": 408,
   "metadata": {},
   "outputs": [
    {
     "name": "stderr",
     "output_type": "stream",
     "text": [
      "\n",
      "A value is trying to be set on a copy of a slice from a DataFrame.\n",
      "Try using .loc[row_indexer,col_indexer] = value instead\n",
      "\n",
      "See the caveats in the documentation: https://pandas.pydata.org/pandas-docs/stable/user_guide/indexing.html#returning-a-view-versus-a-copy\n"
     ]
    }
   ],
   "source": [
    "# Multiplying by nvoxels to get total GMV of each ROI\n",
    "patient_roi_df = patient_source_df.iloc[:, 0:111]\n",
    "roi_columns = [col for col in patient_roi_df.columns if 'ROI_' in col] # Selecting only the ROI volume columns and not age, sex etc\n",
    "multiplier = nvoxels[roi_columns].iloc[0]\n",
    "patient_roi_df[roi_columns] = patient_roi_df[roi_columns].mul(multiplier)\n",
    "\n",
    "# Contatenating demographic and patient datasets\n",
    "patient_df = pd.concat([patient_roi_df.reset_index(drop=True), demo_df.reset_index(drop=True)], axis=1)\n",
    "\n",
    "# Changing index range, column order\n",
    "patient_df.index = range(1, 106)\n",
    "cols = list(patient_df.columns)\n",
    "cols.insert(0, cols.pop(cols.index('Label')))\n",
    "patient_df = patient_df[cols]\n",
    "\n",
    "# Adding Patient column \n",
    "patient_df.insert(1, 'Patient', patient_df['Label'].apply(lambda x: 1 if x.startswith('P') else (0 if x.startswith('S') else None)))\n",
    "\n",
    "# Rounding ages\n",
    "patient_df['Age'] = patient_df['age_at_scanning'].round(2) \n",
    "cols = list(patient_df.columns)\n",
    "cols.insert(2, cols.pop(cols.index('Age')))\n",
    "patient_df = patient_df[cols]\n",
    "\n",
    "# Renaming sex column\n",
    "patient_df = patient_df.rename(columns={'sex': 'Sex'})\n",
    "\n",
    "# Combining L and R Hipp into one and removing the individual ones\n",
    "patient_df['HippGMV'] = patient_df['ROI_101'] + patient_df['ROI_108']\n",
    "patient_df = patient_df.drop(columns=['ROI_101', 'ROI_108'])\n",
    "\n",
    "# Checking how many missing values there are\n",
    "nan_locs = [(index, col) for index, row in patient_df.iterrows() for col in patient_df.columns if pd.isnull(row[col])]\n",
    "\n",
    "roi_col = [col for col in patient_df.columns if 'ROI' in col]\n",
    "columns_to_select = ['Age', 'Sex'] + roi_col + ['HippGMV']\n",
    "\n",
    "# Get the new dataframe\n",
    "new_patient_df = patient_df[columns_to_select]\n",
    "\n",
    "# Selecting only \n",
    "controls = new_patient_df[patient_df['Patient'] == 0]\n",
    "patients = new_patient_df[patient_df['Patient'] == 1]\n",
    "\n",
    "# Making X and Y\n",
    "feature_columns = [col for col in df_select.columns if col not in feature_exclusion and col != 'TIV'] \n",
    "X_controls = controls[feature_columns]\n",
    "y_controls = controls[targets]\n",
    "X_patients = patients[feature_columns]\n",
    "y_patients = patients[targets]\n",
    "X_controls['Age_squared'] = X_controls['Age'] ** 2\n",
    "X_patients['Age_squared'] = X_patients['Age'] ** 2\n",
    "X_controls.insert(0, 'Age_squared', X_controls.pop('Age_squared'))\n",
    "X_patients.insert(0, 'Age_squared', X_patients.pop('Age_squared'))"
   ]
  },
  {
   "cell_type": "markdown",
   "metadata": {},
   "source": [
    "### 9.3 Model Testing"
   ]
  },
  {
   "cell_type": "code",
   "execution_count": 409,
   "metadata": {},
   "outputs": [
    {
     "data": {
      "text/html": [
       "<div>\n",
       "<style scoped>\n",
       "    .dataframe tbody tr th:only-of-type {\n",
       "        vertical-align: middle;\n",
       "    }\n",
       "\n",
       "    .dataframe tbody tr th {\n",
       "        vertical-align: top;\n",
       "    }\n",
       "\n",
       "    .dataframe thead th {\n",
       "        text-align: right;\n",
       "    }\n",
       "</style>\n",
       "<table border=\"1\" class=\"dataframe\">\n",
       "  <thead>\n",
       "    <tr style=\"text-align: right;\">\n",
       "      <th></th>\n",
       "      <th>variable</th>\n",
       "      <th>model</th>\n",
       "      <th>controls_r2</th>\n",
       "      <th>controls_rmse</th>\n",
       "      <th>patients_r2</th>\n",
       "      <th>patients_rmse</th>\n",
       "    </tr>\n",
       "  </thead>\n",
       "  <tbody>\n",
       "    <tr>\n",
       "      <th>0</th>\n",
       "      <td>HippGMV</td>\n",
       "      <td>LinearRegression</td>\n",
       "      <td>0.740</td>\n",
       "      <td>51.112</td>\n",
       "      <td>0.517</td>\n",
       "      <td>111.990</td>\n",
       "    </tr>\n",
       "    <tr>\n",
       "      <th>1</th>\n",
       "      <td>HippGMV</td>\n",
       "      <td>Lasso</td>\n",
       "      <td>0.750</td>\n",
       "      <td>50.179</td>\n",
       "      <td>0.486</td>\n",
       "      <td>115.532</td>\n",
       "    </tr>\n",
       "    <tr>\n",
       "      <th>2</th>\n",
       "      <td>HippGMV</td>\n",
       "      <td>Ridge</td>\n",
       "      <td>0.740</td>\n",
       "      <td>51.116</td>\n",
       "      <td>0.517</td>\n",
       "      <td>111.977</td>\n",
       "    </tr>\n",
       "    <tr>\n",
       "      <th>3</th>\n",
       "      <td>HippGMV</td>\n",
       "      <td>ElasticNet</td>\n",
       "      <td>0.770</td>\n",
       "      <td>48.133</td>\n",
       "      <td>0.506</td>\n",
       "      <td>113.227</td>\n",
       "    </tr>\n",
       "    <tr>\n",
       "      <th>4</th>\n",
       "      <td>HippGMV</td>\n",
       "      <td>RandomForestRegressor</td>\n",
       "      <td>0.644</td>\n",
       "      <td>59.887</td>\n",
       "      <td>0.242</td>\n",
       "      <td>140.235</td>\n",
       "    </tr>\n",
       "    <tr>\n",
       "      <th>5</th>\n",
       "      <td>HippGMV</td>\n",
       "      <td>XGBRegressor</td>\n",
       "      <td>0.626</td>\n",
       "      <td>61.389</td>\n",
       "      <td>0.204</td>\n",
       "      <td>143.721</td>\n",
       "    </tr>\n",
       "    <tr>\n",
       "      <th>6</th>\n",
       "      <td>HippGMV</td>\n",
       "      <td>SVR</td>\n",
       "      <td>0.604</td>\n",
       "      <td>63.152</td>\n",
       "      <td>-0.015</td>\n",
       "      <td>162.329</td>\n",
       "    </tr>\n",
       "  </tbody>\n",
       "</table>\n",
       "</div>"
      ],
      "text/plain": [
       "  variable                  model  controls_r2  controls_rmse  patients_r2  \\\n",
       "0  HippGMV       LinearRegression        0.740         51.112        0.517   \n",
       "1  HippGMV                  Lasso        0.750         50.179        0.486   \n",
       "2  HippGMV                  Ridge        0.740         51.116        0.517   \n",
       "3  HippGMV             ElasticNet        0.770         48.133        0.506   \n",
       "4  HippGMV  RandomForestRegressor        0.644         59.887        0.242   \n",
       "5  HippGMV           XGBRegressor        0.626         61.389        0.204   \n",
       "6  HippGMV                    SVR        0.604         63.152       -0.015   \n",
       "\n",
       "   patients_rmse  \n",
       "0        111.990  \n",
       "1        115.532  \n",
       "2        111.977  \n",
       "3        113.227  \n",
       "4        140.235  \n",
       "5        143.721  \n",
       "6        162.329  "
      ]
     },
     "execution_count": 409,
     "metadata": {},
     "output_type": "execute_result"
    }
   ],
   "source": [
    "results_test = pd.DataFrame()\n",
    "\n",
    "for target in targets:\n",
    "    # Ensuring missing values are dropped before training\n",
    "    if not isinstance(y_controls, pd.DataFrame):\n",
    "        y_controls = pd.DataFrame(y_controls)\n",
    "    if not isinstance(y_patients, pd.DataFrame):\n",
    "        y_patients = pd.DataFrame(y_patients)\n",
    "    \n",
    "    y_controls = y_controls[target]\n",
    "    X_controls = X_controls.loc[y_controls.index.values]\n",
    "    y_patients = y_patients[target]\n",
    "    X_patients = X_patients.loc[y_patients.index.values]\n",
    "\n",
    "    vars = []\n",
    "    model_type = []\n",
    "    controls_r2 = []\n",
    "    controls_rmse = []\n",
    "    patients_r2 = []\n",
    "    patients_rmse = []\n",
    "    n_features = []\n",
    "    \n",
    "    models = [LinearRegression(), Lasso(random_state = 0), Ridge(random_state = 0), ElasticNet(random_state = 0), RandomForestRegressor(random_state = 0), XGBRegressor(), SVR()]\n",
    "    for model in models:\n",
    "        model_name = model.__class__.__name__ # Retrieves model class name to make file name shorter (needed for XGBoost)\n",
    "        try:\n",
    "            if (type(model).__name__ == 'XGBRegressor'): model = joblib.load(f'Models/baselines/{target}_{model_name}.pkl')\n",
    "            else: model = joblib.load(f'Models/baselines/{target} {str(model)}.pkl')\n",
    "        except:\n",
    "            continue\n",
    "\n",
    "        vars.append(target)\n",
    "        model_type.append(type(model).__name__)\n",
    "\n",
    "        y_pred_controls = continuous_predict(model, X_controls)\n",
    "        controls_r2.append(r2_score(y_controls, y_pred_controls))\n",
    "        controls_rmse.append(np.sqrt(mean_squared_error(y_controls, y_pred_controls)))\n",
    "    \n",
    "        y_pred_patients = continuous_predict(model, X_patients)\n",
    "        patients_r2.append(r2_score(y_patients, y_pred_patients))\n",
    "        patients_rmse.append(np.sqrt(mean_squared_error(y_patients, y_pred_patients)))\n",
    "\n",
    "        delta_controls = y_pred_controls - y_controls\n",
    "        delta_patients = y_pred_patients - y_patients\n",
    "\n",
    "    results_test2 = pd.DataFrame({'variable': vars, 'model': model_type, 'controls_r2': controls_r2, 'controls_rmse': controls_rmse, 'patients_r2': patients_r2, 'patients_rmse': patients_rmse})\n",
    "    results_test = pd.concat([results_test, results_test2], axis=0).reset_index(drop=True)\n",
    "results_test = results_test.round(3)\n",
    "results_test\n"
   ]
  },
  {
   "cell_type": "markdown",
   "metadata": {},
   "source": [
    "Here, we see that the model performs well on the test set (controls). It does not perform well on the patient set, as expected, since the patients have localized hippocampal atrophy.   "
   ]
  }
 ],
 "metadata": {
  "kernelspec": {
   "display_name": "base",
   "language": "python",
   "name": "python3"
  },
  "language_info": {
   "codemirror_mode": {
    "name": "ipython",
    "version": 3
   },
   "file_extension": ".py",
   "mimetype": "text/x-python",
   "name": "python",
   "nbconvert_exporter": "python",
   "pygments_lexer": "ipython3",
   "version": "3.10.12"
  },
  "orig_nbformat": 4
 },
 "nbformat": 4,
 "nbformat_minor": 2
}
